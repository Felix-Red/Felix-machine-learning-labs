{
 "cells": [
  {
   "cell_type": "markdown",
   "id": "feca7de4",
   "metadata": {},
   "source": [
    "# Clustering for Customer Segmentation with KMeans\n",
    "\n",
    "\n",
    "## Key Takeaways\n",
    "In this lab, you will gain a comprehensive understanding of KMeans clustering and its applications in data segmentation. \n",
    "\n",
    "_You will learn how to:_\n",
    "- choose the optimal number of clusters, \n",
    "- visualize cluster results, and \n",
    "- apply clustering techniques to real-world datasets. \n",
    "\n",
    "Through practical exercises and projects, you will develop the skills necessary to leverage clustering for data-driven decision-making in various domains."
   ]
  },
  {
   "cell_type": "markdown",
   "id": "09192155",
   "metadata": {},
   "source": [
    "## Applications in Market Segmentation\n",
    "\n",
    "__How data science helps:__\n",
    "\n",
    "- Businesses analyze customer data to create targeted marketing strategies that cater to specific groups (segments), improving engagement and loyalty.\n",
    "\n",
    "__Types of customer segmentation features:__\n",
    "\n",
    "- Demographic, Geographic, Psychographic, and Behavioural.\n",
    "\n",
    "__Demographic__ - grouping is based on demographic variables such as age, gender, income, occupation, and education level. \n",
    "\n",
    "__Geographic__ - group according to their location, which could be as broad as a country or as specific as a neighborhood. This helps in tailoring marketing campaigns that are culturally and regionally relevant. \n",
    "\n",
    "__Psychographic__ - includes lifestyle, values, attitudes, and personal traits. \n",
    "\n",
    "__Behavioural__ - customers are divided based on their behaviour patterns related to the business, such as purchase history, product usage frequency, brand loyalty, and user status (new, potential, or loyal customers).\n",
    "\n",
    "__What data do I regularly segment on for Email Marketing Segmentation?__ \n",
    "\n",
    "Recency Frequency Monetary (RFM) features, time on list, time since last purchase, spend in last 30 days, products purchased, interests (what they clicking on), events attended, email scoring, clicked on a product page (which ones?), geographic region, number of tags, number of events, and many more.\n",
    "\n",
    "__Algorithms used:__\n",
    "\n",
    "- KMeans - great tool for finding similar customers.\n"
   ]
  },
  {
   "cell_type": "markdown",
   "id": "27acb67b",
   "metadata": {},
   "source": [
    "## Prepare Data"
   ]
  },
  {
   "cell_type": "code",
   "execution_count": null,
   "id": "b61d5f00",
   "metadata": {},
   "outputs": [],
   "source": [
    "# Libraries\n",
    "\n",
    "# Data manipulation\n",
    "import pandas as pd\n",
    "# from pandas_profiling import ProfileReport\n",
    "\n",
    "# Data Visualization\n",
    "import matplotlib.pyplot as plt\n",
    "import plotly.express as px\n",
    "\n",
    "# Date manipulation\n",
    "from datetime import date, datetime, timedelta\n",
    "\n",
    "# Clustering algorithm\n",
    "from sklearn.cluster import KMeans\n",
    "\n",
    "# For Cat features\n",
    "from category_encoders import OneHotEncoder\n",
    "\n",
    "# For Scaling features\n",
    "from sklearn.preprocessing import StandardScaler\n",
    "\n",
    "# Model pipeline\n",
    "from sklearn.pipeline import make_pipeline\n",
    "from sklearn.decomposition import PCA\n",
    "\n",
    "# Evaluation metric\n",
    "from sklearn.metrics import silhouette_score\n",
    "\n",
    "# Warning\n",
    "import warnings\n",
    "warnings.simplefilter('ignore', category=Warning, lineno=0, append=False)"
   ]
  },
  {
   "cell_type": "markdown",
   "id": "0142a131",
   "metadata": {},
   "source": [
    "### Import"
   ]
  },
  {
   "cell_type": "markdown",
   "id": "aa0ea625",
   "metadata": {},
   "source": [
    "Let's look at the first few rows of data."
   ]
  },
  {
   "cell_type": "code",
   "execution_count": null,
   "id": "8980c732",
   "metadata": {},
   "outputs": [],
   "source": [
    "# import data\n",
    "raw_df = pd.read_csv('./data/marketing_campaign.csv')\n",
    "raw_df.head()"
   ]
  },
  {
   "cell_type": "markdown",
   "id": "bdaa8c31",
   "metadata": {},
   "source": [
    "Its always good to get little more information about the data like data types, missing values and others. Info function is very helpful for this."
   ]
  },
  {
   "cell_type": "code",
   "execution_count": null,
   "id": "6b5944eb",
   "metadata": {},
   "outputs": [],
   "source": [
    "# Understand data structure\n",
    "print(raw_df.info())"
   ]
  },
  {
   "cell_type": "markdown",
   "id": "53bd4547",
   "metadata": {},
   "source": [
    "We see that majority of the features are integers and very few float and object type. It also shows that there is a column with missing values which is `Income`. There is a better way to understand exactly how many values are missing from this feature."
   ]
  },
  {
   "cell_type": "markdown",
   "id": "6d5ed2ef",
   "metadata": {},
   "source": [
    "#### Missing Values"
   ]
  },
  {
   "cell_type": "code",
   "execution_count": null,
   "id": "310a8ad7",
   "metadata": {},
   "outputs": [],
   "source": [
    "# Checking missing values\n",
    "raw_df.isnull().sum()"
   ]
  },
  {
   "cell_type": "code",
   "execution_count": null,
   "id": "1ead792d",
   "metadata": {},
   "outputs": [],
   "source": [
    "# Fill in missing values\n",
    "raw_df.loc[\n",
    "    raw_df['Income'].isnull()==True,# row location where value == True for NaN\n",
    "    'Income' # col location\n",
    "    ] = raw_df['Income'].mean()"
   ]
  },
  {
   "cell_type": "code",
   "execution_count": null,
   "id": "cf8a2871",
   "metadata": {},
   "outputs": [],
   "source": [
    "# Checking missing values\n",
    "raw_df.isnull().sum()"
   ]
  },
  {
   "cell_type": "markdown",
   "id": "351d8554",
   "metadata": {},
   "source": [
    "Now, if you run the previous command again, there should be no missing values."
   ]
  },
  {
   "cell_type": "code",
   "execution_count": null,
   "id": "7d4e854c",
   "metadata": {},
   "outputs": [],
   "source": [
    "raw_df.Z_CostContact.unique()"
   ]
  },
  {
   "cell_type": "markdown",
   "id": "626bb3c0",
   "metadata": {},
   "source": [
    "Before moving any further, lets try to understand the what each feature means.\n",
    "- **ID**: Identification of a customer,\n",
    "- **Year_Birth**: Customer's year of birth,\n",
    "- **Education**: Customer's education level,\n",
    "- **Marital_Status**: Customer's marital status,  ('Single', 'Together', 'Married', 'Divorced', 'Widow', etc),\n",
    "- **Income**: Amount of money in customer account,\n",
    "- **Kidhome**: Number of kids at home,\n",
    "- **Teenhome**: Number of teenagers at customer's home,\n",
    "- **Dt_Customer**: Date when customer make last purchase,\n",
    "- **Recency**: Number of days since customer's last purchase,\n",
    "- **[MntWines, MntFruits , MntMeatProducts, MntFishProducts, MntSweetProducts, MntGoldProds]**: Amount of purchases by customer on each product,\n",
    "- **[NumDealsPurchases, NumWebPurchases, NumCatalogPurchases, NumStorePurchases]**: How frequently the purchases are being made, based on different ways to purchase products.\n",
    "- **NumWebVisitsMonth**: How frequent customers visit the website \n",
    "- **[AcceptedCmp3, AcceptedCmp4, AcceptedCmp5, AcceptedCmp1, AcceptedCmp2]**: \n",
    "- **Complain**: Customer complaints (0 - no complaint, 1 - complaint)\n",
    "- **Z_CostContact**: Customer contact\n",
    "- **Z_Revenue**:\n",
    "- **Response**:"
   ]
  },
  {
   "cell_type": "markdown",
   "id": "a453738e",
   "metadata": {},
   "source": [
    "### Explore"
   ]
  },
  {
   "cell_type": "code",
   "execution_count": null,
   "id": "29760bb1",
   "metadata": {},
   "outputs": [],
   "source": [
    "# Cast Dt_Customer"
   ]
  },
  {
   "cell_type": "code",
   "execution_count": null,
   "id": "d8b984d8",
   "metadata": {},
   "outputs": [],
   "source": [
    "cat_features = ['Education', 'Marital_Status']\n",
    "for i in cat_features:\n",
    "    print(f'Feature {i}:\\n {raw_df[i].unique()}')\n",
    "# raw_df"
   ]
  },
  {
   "cell_type": "code",
   "execution_count": null,
   "id": "6a27c08d",
   "metadata": {},
   "outputs": [],
   "source": [
    "raw_df.describe(include='number')"
   ]
  },
  {
   "cell_type": "markdown",
   "id": "7e854a60",
   "metadata": {},
   "source": [
    "#### Create `prepare_data` function"
   ]
  },
  {
   "cell_type": "code",
   "execution_count": null,
   "id": "81c3f3eb",
   "metadata": {},
   "outputs": [],
   "source": [
    "def prepare_data(data):\n",
    "\n",
    "    data = (\n",
    "        data\n",
    "        # Remove NA values\n",
    "        .dropna()\n",
    "        \n",
    "        # Convert Dt_Customer datatype to Date\n",
    "        .assign(\n",
    "            Dt_Customer = lambda x: pd.to_datetime(x['Dt_Customer'], format=\"%d-%m-%Y\")\n",
    "            )\n",
    "        \n",
    "        # Feature: Customer Age - max customer date\n",
    "        .assign(\n",
    "            Cust_Age = lambda x: (x['Dt_Customer'].min() - x['Dt_Customer'])/timedelta(days=1)\n",
    "            )\n",
    "        \n",
    "        # Spent = Sum(Mnt...)\n",
    "        .assign(\n",
    "            Spent = lambda x: x.loc[:,x.columns.str.contains('Mnt')].agg(\n",
    "                ['sum'], #function to use\n",
    "                axis=1 # tell pandas to aggregate each row\n",
    "                )\n",
    "            )\n",
    "        \n",
    "        # Remove unnecessary features\n",
    "        .drop(\n",
    "            columns = ['ID', 'Z_CostContact', 'Z_Revenue', 'Response', 'Dt_Customer']\n",
    "            )\n",
    "        )\n",
    "    \n",
    "    # Transform Cat features\n",
    "    prepared_df = OneHotEncoder(use_cat_names=True).fit_transform(data)\n",
    "    \n",
    "    # Output: cleaned dataframe\n",
    "    return prepared_df"
   ]
  },
  {
   "cell_type": "markdown",
   "id": "1b923fe1",
   "metadata": {},
   "source": [
    "### Split"
   ]
  },
  {
   "cell_type": "code",
   "execution_count": null,
   "id": "ca7ab381",
   "metadata": {},
   "outputs": [],
   "source": [
    "# Features to use\n",
    "X = prepare_data(raw_df)\n",
    "X.head()"
   ]
  },
  {
   "cell_type": "markdown",
   "id": "b0bf582e",
   "metadata": {},
   "source": [
    "## Build Model"
   ]
  },
  {
   "cell_type": "markdown",
   "id": "2bccb4d8",
   "metadata": {},
   "source": [
    "### Iterate: Optimizing the Number of Clusters"
   ]
  },
  {
   "cell_type": "code",
   "execution_count": null,
   "id": "bc9c3a00",
   "metadata": {},
   "outputs": [],
   "source": [
    "n_clusters = range(2,8)\n",
    "inertia_errors = []\n",
    "silhouette_scores = []\n",
    "\n",
    "# Add `for` loop to train model and calculate inertia, silhouette score.\n",
    "for k in n_clusters:\n",
    "    # Build model\n",
    "    model = make_pipeline(\n",
    "        StandardScaler(), # clustering using distances - scaling is recommended\n",
    "        KMeans(n_clusters=k, random_state=42)\n",
    "    )\n",
    "    # Train model\n",
    "    model.fit(X)\n",
    "    # Calculate inertia\n",
    "    inertia_errors.append(model.named_steps[\"kmeans\"].inertia_)\n",
    "    # Calculate silhouette score\n",
    "    silhouette_scores.append(\n",
    "        silhouette_score(\n",
    "            X, \n",
    "            model.named_steps[\"kmeans\"].labels_)\n",
    "    )\n",
    "\n",
    "print(\"Inertia:\", inertia_errors[:3])\n",
    "print()\n",
    "print(\"Silhouette Scores:\", silhouette_scores[:3])"
   ]
  },
  {
   "cell_type": "code",
   "execution_count": null,
   "id": "2f40e630",
   "metadata": {},
   "outputs": [],
   "source": [
    "import plotly.express as px\n",
    "# Create line plot of `inertia_errors` vs `n_clusters`\n",
    "fig = px.line(\n",
    "    x=n_clusters,\n",
    "    y=inertia_errors,\n",
    "    title=\"K-Means Model: Inertia vs Number of Clusters\"\n",
    ")\n",
    "fig.update_layout(xaxis_title=\"Number of Clusters\", yaxis_title=\"Inertia\")\n",
    "fig.show()"
   ]
  },
  {
   "cell_type": "code",
   "execution_count": null,
   "id": "74ee1eb7",
   "metadata": {},
   "outputs": [],
   "source": [
    "# Create a line plot of `silhouette_scores` vs `n_clusters`\n",
    "fig = fig = px.line(\n",
    "    x=n_clusters,\n",
    "    y=silhouette_scores,\n",
    "    title=\"K-Means Model: Silhouette Score vs Number of Clusters (Elbow Method)\"\n",
    ")\n",
    "fig.update_layout(\n",
    "    xaxis_title=\"Number of Clusters\", yaxis_title=\"Silhouette Score\"\n",
    ")\n",
    "fig.show()"
   ]
  },
  {
   "cell_type": "markdown",
   "id": "0fb0b05b",
   "metadata": {},
   "source": [
    "### Evaluate"
   ]
  },
  {
   "cell_type": "code",
   "execution_count": null,
   "id": "2bd01601",
   "metadata": {},
   "outputs": [],
   "source": [
    "# final_model labels\n",
    "final_model = make_pipeline(\n",
    "    StandardScaler(),\n",
    "    KMeans(n_clusters=3, random_state=42)\n",
    ")\n",
    "# Predict class labels\n",
    "labels = final_model.fit_predict(X)\n",
    "print(labels[:10])"
   ]
  },
  {
   "cell_type": "code",
   "execution_count": null,
   "id": "75bb28d4",
   "metadata": {},
   "outputs": [],
   "source": [
    "X['labels'] = final_model.named_steps[\"kmeans\"].labels_\n",
    "print(labels[:10])"
   ]
  },
  {
   "cell_type": "markdown",
   "id": "74df6d44",
   "metadata": {},
   "source": [
    "## Communicate\n",
    "\n",
    "### 1. Using `plotnine` from `ggplot` library package coming from R language."
   ]
  },
  {
   "cell_type": "code",
   "execution_count": null,
   "id": "2013fcaf",
   "metadata": {},
   "outputs": [],
   "source": [
    "import plotnine as pn\n",
    "from plotnine import *\n",
    "p = (\n",
    "    # Create a plot area\n",
    "    ggplot(X, aes(x='Spent', y='Income')) +\n",
    "    # Add points into the plot area\n",
    "    geom_point(aes(fill = X['labels'].astype(str)))\n",
    "    )\n",
    "# Add a blue smooth line\n",
    "p = p + geom_smooth(\n",
    "    color = \"blue\",\n",
    "    se = False\n",
    "    )\n",
    "# Format x-axis scale to display `$000,000`\n",
    "p = p + scale_x_continuous(\n",
    "    name='Spent',\n",
    "    labels = lambda x: [f'${y:,.0f}' for y in x]\n",
    "    )\n",
    "# Format y-axis scale to display `$000,000`\n",
    "p = p + scale_y_continuous(\n",
    "    name='Income',\n",
    "    labels = lambda x: [f'${x:,.0f}' for x in x],\n",
    "    limits=(0,200_000)\n",
    "    )\n",
    "# Add title to the plot\n",
    "p = p + labs(\n",
    "    title = \"Customer Clusters: Spent vs Income\"\n",
    "    ) + theme_classic() # Add plot theme\n",
    "\n",
    "p.show()"
   ]
  },
  {
   "cell_type": "markdown",
   "id": "7c36eae5",
   "metadata": {},
   "source": [
    "### 2. Visualization using (PCA)"
   ]
  },
  {
   "cell_type": "code",
   "execution_count": null,
   "id": "be8c2ec8",
   "metadata": {},
   "outputs": [],
   "source": [
    "# Instantiate transformer\n",
    "pca = PCA(n_components=2, random_state=42)\n",
    "\n",
    "# Transform `X`\n",
    "X_t = pca.fit_transform(X)\n",
    "X_t\n",
    "# # Put `X_t` into DataFrame\n",
    "X_pca = pd.DataFrame(X_t, columns=[\"PC1\", \"PC2\"])\n",
    "\n",
    "print(\"X_pca shape:\", X_pca.shape)\n",
    "X_pca.head()"
   ]
  },
  {
   "cell_type": "code",
   "execution_count": null,
   "id": "6d9c5c81",
   "metadata": {},
   "outputs": [],
   "source": [
    "# Create scatter plot\n",
    "fig = px.scatter(\n",
    "    data_frame=X_pca,\n",
    "    x=\"PC1\",\n",
    "    y=\"PC2\",\n",
    "    color=labels.astype(str),\n",
    "    title=\"Customer Clusters: Spent vs Income\"\n",
    ")\n",
    "fig.update_layout(xaxis_title=\"Spent\", \n",
    "                  yaxis_title=\"Income\")\n",
    "fig.show()"
   ]
  }
 ],
 "metadata": {
  "kernelspec": {
   "display_name": "Python 3",
   "language": "python",
   "name": "python3"
  },
  "language_info": {
   "codemirror_mode": {
    "name": "ipython",
    "version": 3
   },
   "file_extension": ".py",
   "mimetype": "text/x-python",
   "name": "python",
   "nbconvert_exporter": "python",
   "pygments_lexer": "ipython3",
   "version": "3.12.3"
  }
 },
 "nbformat": 4,
 "nbformat_minor": 5
}
